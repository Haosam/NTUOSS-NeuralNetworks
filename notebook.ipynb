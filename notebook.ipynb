{
  "nbformat": 4,
  "nbformat_minor": 0,
  "metadata": {
    "colab": {
      "name": "NTUOSS TGIFHacks - Neural Networks.ipynb",
      "version": "0.3.2",
      "views": {},
      "default_view": {},
      "provenance": [],
      "collapsed_sections": []
    },
    "kernelspec": {
      "name": "python3",
      "display_name": "Python 3"
    }
  },
  "cells": [
    {
      "metadata": {
        "id": "b7RUT3TxUOC7",
        "colab_type": "text"
      },
      "cell_type": "markdown",
      "source": [
        "# NTUOSS TGIFHacks - Neural Networks\n",
        "*— by Suyash Lakhotia for NTU Open Source Society*\n",
        "\n",
        "<small>Last Updated: 21 March 2018</small>"
      ]
    },
    {
      "metadata": {
        "id": "lfXjGjxXSjET",
        "colab_type": "text"
      },
      "cell_type": "markdown",
      "source": [
        "## Setup"
      ]
    },
    {
      "metadata": {
        "id": "o7Rm0roXSULc",
        "colab_type": "text"
      },
      "cell_type": "markdown",
      "source": [
        "Note: Keras is not installed by default on Colaboratory."
      ]
    },
    {
      "metadata": {
        "id": "e0v4htOONY8v",
        "colab_type": "code",
        "colab": {
          "autoexec": {
            "startup": false,
            "wait_interval": 0
          }
        }
      },
      "cell_type": "code",
      "source": [
        "# https://keras.io/\n",
        "!pip install -q keras"
      ],
      "execution_count": 0,
      "outputs": []
    },
    {
      "metadata": {
        "id": "_NsCBEW9Sc2N",
        "colab_type": "text"
      },
      "cell_type": "markdown",
      "source": [
        "## Preparing the Dataset"
      ]
    },
    {
      "metadata": {
        "id": "KDHcRZmuR96_",
        "colab_type": "text"
      },
      "cell_type": "markdown",
      "source": [
        "Step 1: Load the dataset."
      ]
    },
    {
      "metadata": {
        "id": "1db3AKBiLP-f",
        "colab_type": "code",
        "colab": {
          "autoexec": {
            "startup": false,
            "wait_interval": 0
          }
        }
      },
      "cell_type": "code",
      "source": [
        "from sklearn.datasets import load_wine\n",
        "\n",
        "# Load wine dataset\n",
        "dataset = load_wine()\n",
        "\n",
        "# Print description of dataset\n",
        "print(dataset.DESCR)"
      ],
      "execution_count": 0,
      "outputs": []
    },
    {
      "metadata": {
        "id": "37aJRNjJSHCv",
        "colab_type": "text"
      },
      "cell_type": "markdown",
      "source": [
        "Step 2: Split the dataset into separate train & test sets."
      ]
    },
    {
      "metadata": {
        "id": "OxJn88i8LMiG",
        "colab_type": "code",
        "colab": {
          "autoexec": {
            "startup": false,
            "wait_interval": 0
          }
        }
      },
      "cell_type": "code",
      "source": [
        "from sklearn.model_selection import train_test_split\n",
        "\n",
        "# Shuffle and split the dataset\n",
        "X_train, X_test, y_train, y_test = train_test_split(dataset.data, dataset.target,\n",
        "                                                    test_size=0.30, random_state=42)"
      ],
      "execution_count": 0,
      "outputs": []
    },
    {
      "metadata": {
        "id": "c4OGn-4QSLkF",
        "colab_type": "text"
      },
      "cell_type": "markdown",
      "source": [
        "Step 3: Scale the features of the dataset and one-hot encode the labels."
      ]
    },
    {
      "metadata": {
        "id": "m4n2-iFkL1dK",
        "colab_type": "code",
        "colab": {
          "autoexec": {
            "startup": false,
            "wait_interval": 0
          }
        }
      },
      "cell_type": "code",
      "source": [
        "from sklearn.preprocessing import StandardScaler, LabelBinarizer\n",
        "\n",
        "# Scale the features of the dataset\n",
        "scaler = StandardScaler().fit(X_train)\n",
        "X_train = scaler.transform(X_train)\n",
        "X_test = scaler.transform(X_test)\n",
        "\n",
        "# One-hot encode the labels\n",
        "binarizer = LabelBinarizer().fit(y_train)\n",
        "y_train = binarizer.transform(y_train)\n",
        "y_test = binarizer.transform(y_test)"
      ],
      "execution_count": 0,
      "outputs": []
    },
    {
      "metadata": {
        "id": "GoYw6G0QSmxv",
        "colab_type": "text"
      },
      "cell_type": "markdown",
      "source": [
        "## Defining the Model"
      ]
    },
    {
      "metadata": {
        "id": "QjGWPO3BMDtk",
        "colab_type": "code",
        "colab": {
          "autoexec": {
            "startup": false,
            "wait_interval": 0
          }
        }
      },
      "cell_type": "code",
      "source": [
        "from keras.models import Sequential\n",
        "from keras.layers import Dense\n",
        "\n",
        "# Initialize the constructor\n",
        "model = Sequential()\n",
        "\n",
        "# Add the input layer\n",
        "model.add(Dense(13, activation='relu', input_shape=(13,)))\n",
        "\n",
        "# Add one hidden layer \n",
        "model.add(Dense(8, activation='relu'))\n",
        "\n",
        "# Add the output layer \n",
        "model.add(Dense(3, activation='softmax'))"
      ],
      "execution_count": 0,
      "outputs": []
    },
    {
      "metadata": {
        "id": "liNFGOnKSrAb",
        "colab_type": "text"
      },
      "cell_type": "markdown",
      "source": [
        "## Training the Model"
      ]
    },
    {
      "metadata": {
        "id": "Ary9oDvTMe0H",
        "colab_type": "code",
        "colab": {
          "autoexec": {
            "startup": false,
            "wait_interval": 0
          }
        }
      },
      "cell_type": "code",
      "source": [
        "# Compile the model with the appropriate loss, optimizer & metric(s)\n",
        "model.compile(loss='categorical_crossentropy',\n",
        "              optimizer='adam',\n",
        "              metrics=['accuracy'])\n",
        "\n",
        "# Fit (i.e. train) the model on the train set\n",
        "model.fit(X_train, y_train, epochs=20, batch_size=1, verbose=1)"
      ],
      "execution_count": 0,
      "outputs": []
    },
    {
      "metadata": {
        "id": "YIjGi-OiSsb_",
        "colab_type": "text"
      },
      "cell_type": "markdown",
      "source": [
        "## Evaluating the Model"
      ]
    },
    {
      "metadata": {
        "id": "QFDTMJ6lMoNa",
        "colab_type": "code",
        "colab": {
          "autoexec": {
            "startup": false,
            "wait_interval": 0
          }
        }
      },
      "cell_type": "code",
      "source": [
        "score = model.evaluate(X_test, y_test, verbose=1)\n",
        "print(score)"
      ],
      "execution_count": 0,
      "outputs": []
    },
    {
      "metadata": {
        "id": "KVZsGWR48aGV",
        "colab_type": "text"
      },
      "cell_type": "markdown",
      "source": [
        "## Using the Model for Inference"
      ]
    },
    {
      "metadata": {
        "id": "eG08xcxa8sbx",
        "colab_type": "code",
        "colab": {
          "autoexec": {
            "startup": false,
            "wait_interval": 0
          }
        }
      },
      "cell_type": "code",
      "source": [
        "y_pred = model.predict(X_test, verbose=0)\n",
        "print(y_pred[:5])\n",
        "print(y_test[:5])"
      ],
      "execution_count": 0,
      "outputs": []
    }
  ]
}